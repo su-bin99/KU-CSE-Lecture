{
 "cells": [
  {
   "cell_type": "markdown",
   "metadata": {},
   "source": [
    "# <center> 데이터사이언스개론 </center>\n",
    "## <center> Gradient Descent 실습 과제 </center>\n",
    "\n",
    "<div class=\"pull-right\"> 컴퓨터공학과 201811259 배수빈 </div>"
   ]
  },
  {
   "cell_type": "markdown",
   "metadata": {},
   "source": [
    "## 0-1 import"
   ]
  },
  {
   "cell_type": "code",
   "execution_count": 1,
   "metadata": {},
   "outputs": [],
   "source": [
    "import pandas as pd\n",
    "import numpy as np\n",
    "import matplotlib.pyplot as plt\n",
    "import pymysql\n",
    "import statsmodels.api as sm\n",
    "from celluloid import Camera\n",
    "from IPython.display import HTML"
   ]
  },
  {
   "cell_type": "markdown",
   "metadata": {},
   "source": [
    "## 0-2. db_score 디비로 구축"
   ]
  },
  {
   "cell_type": "code",
   "execution_count": 2,
   "metadata": {},
   "outputs": [],
   "source": [
    "def load_score_data():\n",
    "    file = \"C:\\\\Users\\\\Subin\\\\db_score.xlsx\"\n",
    "    score = pd.read_excel(file) \n",
    "    \n",
    "    conn = pymysql.connect(host='localhost', user = 'root', password = 'dbsrl9339^^', db = 'university')\n",
    "    curs = conn.cursor(pymysql.cursors.DictCursor)\n",
    "\n",
    "    drop_sql = \"\"\"drop table if exists db_score\"\"\"\n",
    "    \n",
    "    import sqlalchemy\n",
    "    database_username = 'root'\n",
    "    database_password = 'dbsrl9339^^'\n",
    "    database_ip = 'localhost'\n",
    "    database_name = 'university'\n",
    "    database_connection = sqlalchemy.create_engine('mysql+pymysql://{0}:{1}@{2}/{3}'.format(database_username, database_password, \n",
    "                                                                                             database_ip, database_name))\n",
    "    score.to_sql(con = database_connection, name = 'db_score', if_exists = 'replace')\n",
    "                                                                                            \n",
    "load_score_data()                                                                              "
   ]
  },
  {
   "cell_type": "markdown",
   "metadata": {},
   "source": [
    "-----\n",
    "\n",
    "\n",
    "## 1. Simple linear regression 시각화"
   ]
  },
  {
   "cell_type": "markdown",
   "metadata": {},
   "source": [
    "#### 1-1. DB에서 데이터 꺼내서 X, y 에 저장"
   ]
  },
  {
   "cell_type": "code",
   "execution_count": 3,
   "metadata": {},
   "outputs": [],
   "source": [
    "def load_dbscore_data():\n",
    "    conn = pymysql.connect(host='localhost', user = 'root', password = 'dbsrl9339^^', db = 'university')\n",
    "    curs = conn.cursor(pymysql.cursors.DictCursor)\n",
    "    \n",
    "    sql = \"select * from db_score\"\n",
    "    curs.execute(sql)\n",
    "    \n",
    "    data  = curs.fetchall()\n",
    "    \n",
    "    curs.close()\n",
    "    conn.close()\n",
    "    \n",
    "    X = [ ( t['midterm'] ) for t in data ]\n",
    "    X = np.array(X)\n",
    "    \n",
    "    y = [ (t['score']) for t in data]\n",
    "    y = np.array(y)\n",
    "\n",
    "    return X, y\n",
    "\n",
    "X, y = load_dbscore_data()"
   ]
  },
  {
   "cell_type": "markdown",
   "metadata": {},
   "source": [
    "#### 1-2. 경사하강법을 활용한 선형회귀"
   ]
  },
  {
   "cell_type": "code",
   "execution_count": 4,
   "metadata": {
    "scrolled": true
   },
   "outputs": [
    {
     "name": "stdout",
     "output_type": "stream",
     "text": [
      "epoch 0: m_grad=-3227.859378, c_grad=-128.088261, m=3.227859, c=0.128088\n",
      "epoch 1000: m_grad=0.152477, c_grad=-3.995112, m=2.441183, c=4.530306\n",
      "epoch 2000: m_grad=0.124641, c_grad=-3.265779, m=2.303106, c=8.148144\n",
      "epoch 3000: m_grad=0.101887, c_grad=-2.669590, m=2.190235, c=11.105523\n",
      "epoch 4000: m_grad=0.083287, c_grad=-2.182239, m=2.097970, c=13.523012\n",
      "epoch 5000: m_grad=0.068082, c_grad=-1.783857, m=2.022548, c=15.499174\n",
      "epoch 6000: m_grad=0.055653, c_grad=-1.458203, m=1.960895, c=17.114574\n",
      "epoch 7000: m_grad=0.045494, c_grad=-1.191998, m=1.910497, c=18.435073\n",
      "epoch 8000: m_grad=0.037188, c_grad=-0.974391, m=1.869300, c=19.514506\n",
      "epoch 9000: m_grad=0.030399, c_grad=-0.796510, m=1.835623, c=20.396882\n",
      "epoch 10000: m_grad=0.024850, c_grad=-0.651102, m=1.808094, c=21.118175\n",
      "epoch 11000: m_grad=0.020313, c_grad=-0.532239, m=1.785591, c=21.707790\n",
      "epoch 12000: m_grad=0.016605, c_grad=-0.435075, m=1.767196, c=22.189768\n",
      "epoch 13000: m_grad=0.013574, c_grad=-0.355650, m=1.752159, c=22.583757\n",
      "epoch 14000: m_grad=0.011096, c_grad=-0.290723, m=1.739867, c=22.905822\n",
      "epoch 15000: m_grad=0.009070, c_grad=-0.237650, m=1.729819, c=23.169091\n",
      "epoch 16000: m_grad=0.007414, c_grad=-0.194265, m=1.721606, c=23.384299\n",
      "epoch 17000: m_grad=0.006061, c_grad=-0.158801, m=1.714892, c=23.560219\n",
      "epoch 18000: m_grad=0.004954, c_grad=-0.129811, m=1.709403, c=23.704024\n",
      "epoch 19000: m_grad=0.004050, c_grad=-0.106113, m=1.704917, c=23.821576\n",
      "epoch 20000: m_grad=0.003311, c_grad=-0.086741, m=1.701249, c=23.917669\n",
      "epoch 21000: m_grad=0.002706, c_grad=-0.070906, m=1.698251, c=23.996219\n",
      "epoch 22000: m_grad=0.002212, c_grad=-0.057962, m=1.695801, c=24.060429\n",
      "epoch 23000: m_grad=0.001808, c_grad=-0.047381, m=1.693798, c=24.112917\n",
      "epoch 24000: m_grad=0.001478, c_grad=-0.038731, m=1.692160, c=24.155824\n",
      "epoch 25000: m_grad=0.001208, c_grad=-0.031660, m=1.690821, c=24.190897\n",
      "epoch 26000: m_grad=0.000988, c_grad=-0.025881, m=1.689727, c=24.219567\n",
      "epoch 27000: m_grad=0.000807, c_grad=-0.021156, m=1.688833, c=24.243004\n",
      "epoch 28000: m_grad=0.000660, c_grad=-0.017294, m=1.688102, c=24.262162\n",
      "epoch 29000: m_grad=0.000540, c_grad=-0.014137, m=1.687504, c=24.277823\n",
      "epoch 30000: m_grad=0.000441, c_grad=-0.011556, m=1.687015, c=24.290624\n",
      "epoch 31000: m_grad=0.000361, c_grad=-0.009446, m=1.686616, c=24.301089\n",
      "epoch 32000: m_grad=0.000295, c_grad=-0.007722, m=1.686289, c=24.309643\n",
      "epoch 33000: m_grad=0.000241, c_grad=-0.006312, m=1.686022, c=24.316636\n",
      "epoch 34000: m_grad=0.000197, c_grad=-0.005160, m=1.685804, c=24.322352\n",
      "epoch 35000: m_grad=0.000161, c_grad=-0.004218, m=1.685626, c=24.327025\n",
      "epoch 36000: m_grad=0.000132, c_grad=-0.003448, m=1.685480, c=24.330844\n",
      "epoch 37000: m_grad=0.000108, c_grad=-0.002818, m=1.685361, c=24.333966\n",
      "epoch 38000: m_grad=0.000088, c_grad=-0.002304, m=1.685264, c=24.336519\n",
      "epoch 39000: m_grad=0.000072, c_grad=-0.001883, m=1.685184, c=24.338605\n",
      "epoch 40000: m_grad=0.000059, c_grad=-0.001540, m=1.685119, c=24.340311\n",
      "epoch 41000: m_grad=0.000048, c_grad=-0.001258, m=1.685066, c=24.341705\n",
      "epoch 42000: m_grad=0.000039, c_grad=-0.001029, m=1.685022, c=24.342844\n",
      "epoch 43000: m_grad=0.000032, c_grad=-0.000841, m=1.684987, c=24.343776\n",
      "epoch 44000: m_grad=0.000026, c_grad=-0.000687, m=1.684958, c=24.344537\n",
      "epoch 45000: m_grad=0.000021, c_grad=-0.000562, m=1.684934, c=24.345160\n",
      "epoch 46000: m_grad=0.000018, c_grad=-0.000459, m=1.684914, c=24.345669\n",
      "epoch 47000: m_grad=0.000014, c_grad=-0.000375, m=1.684899, c=24.346085\n",
      "epoch 48000: m_grad=0.000012, c_grad=-0.000307, m=1.684886, c=24.346425\n",
      "epoch 49000: m_grad=0.000010, c_grad=-0.000251, m=1.684875, c=24.346703\n",
      "epoch 50000: m_grad=0.000008, c_grad=-0.000205, m=1.684866, c=24.346930\n",
      "epoch 51000: m_grad=0.000006, c_grad=-0.000168, m=1.684859, c=24.347116\n",
      "epoch 52000: m_grad=0.000005, c_grad=-0.000137, m=1.684853, c=24.347267\n",
      "epoch 53000: m_grad=0.000004, c_grad=-0.000112, m=1.684849, c=24.347391\n",
      "최종 m : 1.6848  /   c : 24.3475\n"
     ]
    },
    {
     "data": {
      "image/png": "[encoded data removed]",
      "text/plain": [
       "<Figure size 432x288 with 1 Axes>"
      ]
     },
     "metadata": {
      "needs_background": "light"
     },
     "output_type": "display_data"
    }
   ],
   "source": [
    "def gradient_descent_vectorized(X, y):\n",
    "    epochs = 100000\n",
    "    min_grad = 0.0001\n",
    "    learning_rate = 0.001\n",
    "    \n",
    "    m = 0.0\n",
    "    c = 0.0\n",
    "    \n",
    "    n = len(y)\n",
    "    \n",
    "    c_grad = 0.0\n",
    "    m_grad = 0.0\n",
    "    \n",
    "    fig, ax = plt.subplots()\n",
    "    camera = Camera(fig)\n",
    "    \n",
    "    for epoch in range(epochs):    \n",
    "        y_pred = m * X + c \n",
    "        m_grad = (2*(y_pred - y)*X)\n",
    "        m_grad = m_grad.sum()/n\n",
    "        c_grad = (2 * (y_pred - y)).sum()/n\n",
    "        \n",
    "        m = m - learning_rate * m_grad\n",
    "        c = c - learning_rate * c_grad  \n",
    "\n",
    "        if ( epoch % 1000 == 0): \n",
    "            print(\"epoch %d: m_grad=%f, c_grad=%f, m=%f, c=%f\" %(epoch, m_grad, c_grad, m, c) )\n",
    "\n",
    "            \n",
    "            ax.scatter(X, y, color = 'skyblue')\n",
    "            ax.plot([min(X), max(X)], [min(y_pred), max(y_pred)], color='red') # plot 선\n",
    "            ax.annotate(\"m = %.4f c = %.4f \" %(m, c), xy = (0, 90), fontsize = 12)\n",
    "            camera.snap()\n",
    "            fig\n",
    "\n",
    "        if ( abs(m_grad) < min_grad and abs(c_grad) < min_grad ):\n",
    "            break\n",
    "    animation = camera.animate()\n",
    "    HTML(animation.to_html5_video())\n",
    "    animation.save(\"[데이터사이언스]GD_visualize.mp4\")\n",
    "    return m, c\n",
    "\n",
    "a , b = gradient_descent_vectorized(X, y)\n",
    "print( \"최종 m : %.4f  /   c : %.4f\" %(a, b))"
   ]
  },
  {
   "cell_type": "markdown",
   "metadata": {},
   "source": [
    "- 최종적으로 경사하강법으로 알아낸 기울기와 절편은 위와 같이 기울기는 1.6848, 절편은 24.3475와 같다. \n",
    "- 동영상을 보면 알 수 있듯이, 기울기와 절편 모두 에포크가 증가하면서 점점 산점도의 점들의 분포와 근접해감을 알 수 있다. "
   ]
  },
  {
   "cell_type": "markdown",
   "metadata": {},
   "source": [
    "------\n",
    "\n",
    "## 2. multiple linear regression 구현"
   ]
  },
  {
   "cell_type": "markdown",
   "metadata": {},
   "source": [
    "#### 2-1. DB에서 데이터 꺼내서 X, y 에 저장"
   ]
  },
  {
   "cell_type": "code",
   "execution_count": 5,
   "metadata": {},
   "outputs": [],
   "source": [
    "def load_dbscore_data():\n",
    "    conn = pymysql.connect(host='localhost', user = 'root', password = 'dbsrl9339^^', db = 'university')\n",
    "    curs = conn.cursor(pymysql.cursors.DictCursor)\n",
    "    \n",
    "    sql = \"select * from db_score\"\n",
    "    curs.execute(sql)\n",
    "    \n",
    "    data  = curs.fetchall()\n",
    "    \n",
    "    curs.close()\n",
    "    conn.close()\n",
    "    \n",
    "    X = [ (t['attendance'], t['homework'], t['midterm'] ) for t in data ]\n",
    "    X = np.array(X)\n",
    "    \n",
    "    y = [ (t['score']) for t in data]\n",
    "    y = np.array(y)\n",
    "\n",
    "    return X, y\n",
    "\n",
    "X, y = load_dbscore_data()"
   ]
  },
  {
   "cell_type": "markdown",
   "metadata": {},
   "source": [
    "#### 2-2. LS"
   ]
  },
  {
   "cell_type": "code",
   "execution_count": 6,
   "metadata": {},
   "outputs": [
    {
     "name": "stdout",
     "output_type": "stream",
     "text": [
      "                            OLS Regression Results                            \n",
      "==============================================================================\n",
      "Dep. Variable:                      y   R-squared:                       0.817\n",
      "Model:                            OLS   Adj. R-squared:                  0.811\n",
      "Method:                 Least Squares   F-statistic:                     131.2\n",
      "Date:                Mon, 26 Oct 2020   Prob (F-statistic):           2.24e-32\n",
      "Time:                        17:58:08   Log-Likelihood:                -302.25\n",
      "No. Observations:                  92   AIC:                             612.5\n",
      "Df Residuals:                      88   BIC:                             622.6\n",
      "Df Model:                           3                                         \n",
      "Covariance Type:            nonrobust                                         \n",
      "==============================================================================\n",
      "                 coef    std err          t      P>|t|      [0.025      0.975]\n",
      "------------------------------------------------------------------------------\n",
      "const        -19.4116     15.824     -1.227      0.223     -50.858      12.034\n",
      "x1             3.9295      2.264      1.736      0.086      -0.569       8.428\n",
      "x2             0.9316      0.296      3.151      0.002       0.344       1.519\n",
      "x3             1.5173      0.095     16.040      0.000       1.329       1.705\n",
      "==============================================================================\n",
      "Omnibus:                        0.053   Durbin-Watson:                   1.314\n",
      "Prob(Omnibus):                  0.974   Jarque-Bera (JB):                0.162\n",
      "Skew:                           0.052   Prob(JB):                        0.922\n",
      "Kurtosis:                       2.823   Cond. No.                         732.\n",
      "==============================================================================\n",
      "\n",
      "Warnings:\n",
      "[1] Standard Errors assume that the covariance matrix of the errors is correctly specified.\n"
     ]
    }
   ],
   "source": [
    "X_const = sm.add_constant(X)\n",
    "\n",
    "model = sm.OLS(y, X_const)\n",
    "ls = model.fit()\n",
    "\n",
    "\n",
    "ls_c = ls.params[0] # c ( y절편 )\n",
    "ls_m = ls.params[1] # m ( 기울기 )\n",
    "\n",
    "print(ls.summary())"
   ]
  },
  {
   "cell_type": "markdown",
   "metadata": {},
   "source": [
    "#### 2-3. 경사하강법을 활용한 선형회귀"
   ]
  },
  {
   "cell_type": "code",
   "execution_count": 7,
   "metadata": {},
   "outputs": [
    {
     "name": "stdout",
     "output_type": "stream",
     "text": [
      "epoch 0: c_grad=-128.088261, c=0.128088 / 1.003714   2.385090   3.227859\n",
      "epoch 100000: c_grad=0.050240, c=-5.920524 / 2.080996   0.974666   1.524609\n",
      "epoch 200000: c_grad=0.034620, c=-10.115163 / 2.655727   0.961283   1.522332\n",
      "epoch 300000: c_grad=0.023856, c=-13.005607 / 3.051764   0.952060   1.520764\n",
      "epoch 400000: c_grad=0.016439, c=-14.997355 / 3.324664   0.945705   1.519683\n",
      "epoch 500000: c_grad=0.011327, c=-16.369830 / 3.512715   0.941326   1.518938\n",
      "epoch 600000: c_grad=0.007806, c=-17.315576 / 3.642297   0.938308   1.518424\n",
      "epoch 700000: c_grad=0.005379, c=-17.967271 / 3.731590   0.936229   1.518071\n",
      "epoch 800000: c_grad=0.003706, c=-18.416342 / 3.793119   0.934796   1.517827\n",
      "epoch 900000: c_grad=0.002554, c=-18.725788 / 3.835518   0.933808   1.517659\n",
      "기을기 : 3.8647    /    0.9331    /    1.5175\n",
      "절편 : -18.9390\n"
     ]
    }
   ],
   "source": [
    "def gradient_descent_vectorized(X, y):\n",
    "    epochs = 1000000\n",
    "    min_grad = 0.0001\n",
    "    learning_rate = 0.001\n",
    "    \n",
    "    m = [0.0, 0.0, 0.0]\n",
    "    m = np.array(m)\n",
    "    \n",
    "    c = 0.0\n",
    "    n = len(y)\n",
    "    c_grad = 0.0    \n",
    "    m_grad = [0.0, 0.0, 0.0]\n",
    "    m_grad = np.array(m_grad)\n",
    "    \n",
    "    for epoch in range(epochs):    \n",
    "        y_pred = m[0]*X[:,0] + m[1]*X[:,1] + m[2]*X[:,2] + c\n",
    "\n",
    "        m_grad[0] = (2*(y_pred - y)*X[:,0]).sum()/n\n",
    "        m_grad[1] = (2*(y_pred - y)*X[:,1]).sum()/n\n",
    "        m_grad[2] = (2*(y_pred - y)*X[:,2]).sum()/n\n",
    "        c_grad = (2 * (y_pred - y)).sum()/n\n",
    "        \n",
    "        m[0] = m[0] - learning_rate * m_grad[0]\n",
    "        m[1] = m[1] - learning_rate * m_grad[1]\n",
    "        m[2] = m[2] - learning_rate * m_grad[2]\n",
    "        \n",
    "        c = c - learning_rate * c_grad\n",
    "        \n",
    "        if ( epoch % 100000 == 0):\n",
    "           # print(m)\n",
    "            print(\"epoch %d: c_grad=%f, c=%f / %f   %f   %f\" %(epoch, c_grad, c, m[0], m[1], m[2]) )\n",
    "            \n",
    "        if ( abs(m_grad[0]) and abs(m_grad[1]) and abs(m_grad[2]) < min_grad and\n",
    "            abs(c_grad) < min_grad ):\n",
    "            break\n",
    "\n",
    "    return m, c\n",
    "\n",
    "a, b = gradient_descent_vectorized(X, y)\n",
    "print( \"기을기 : %.4f    /    %.4f    /    %.4f\" %(a[0], a[1], a[2]))\n",
    "print( \"절편 : %.4f\" %b)"
   ]
  },
  {
   "cell_type": "markdown",
   "metadata": {},
   "source": [
    "|  | LS | 경사하강법 |\n",
    "| :---: | :----: | :----: |\n",
    "| 절편 | -19.4116 | -18.9390|\n",
    "| 기울기 1 | 3.9295 | 3.8647  |\n",
    "| 기울기 2 | 0.9316 | 0.9331  |\n",
    "| 기울기 3 | 1.5173 | 1.5175  |\n",
    "\n",
    "- LS와 경사하강법을 통해 얻어낸 기울기와 절편이 유사함을 알 수 있다. "
   ]
  }
 ],
 "metadata": {
  "kernelspec": {
   "display_name": "Python 3",
   "language": "python",
   "name": "python3"
  },
  "language_info": {
   "codemirror_mode": {
    "name": "ipython",
    "version": 3
   },
   "file_extension": ".py",
   "mimetype": "text/x-python",
   "name": "python",
   "nbconvert_exporter": "python",
   "pygments_lexer": "ipython3",
   "version": "3.6.10"
  }
 },
 "nbformat": 4,
 "nbformat_minor": 4
}
